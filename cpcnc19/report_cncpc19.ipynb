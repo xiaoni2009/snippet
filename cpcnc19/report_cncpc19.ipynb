{
 "cells": [
  {
   "cell_type": "code",
   "execution_count": 15,
   "metadata": {},
   "outputs": [
    {
     "name": "stderr",
     "output_type": "stream",
     "text": [
      "Building prefix dict from the default dictionary ...\n",
      "Loading model from cache /var/folders/_w/vb15wg_n4fn03mktp1gxwkv80000gn/T/jieba.cache\n",
      "Loading model cost 0.687 seconds.\n",
      "Prefix dict has been built succesfully.\n"
     ]
    },
    {
     "name": "stdout",
     "output_type": "stream",
     "text": [
      "分词总数: 17746\n",
      "示例: ['同志', '们', '：', '现在', '，', '我', '代表', '第十八届', '中央委员会', '向', '大会', '作', '报告', '。', ' ', '\\n', '\\n', '中国共产党', '第十九次', '全国代表大会']\n"
     ]
    }
   ],
   "source": [
    "# 1.分词\n",
    "import jieba\n",
    "with open('report19.txt') as f:\n",
    "    s = f.read()\n",
    "word_list = list(jieba.cut(s))\n",
    "print('分词总数:', len(word_list))\n",
    "print('示例:', word_list[:20])"
   ]
  },
  {
   "cell_type": "code",
   "execution_count": 16,
   "metadata": {},
   "outputs": [
    {
     "name": "stdout",
     "output_type": "stream",
     "text": [
      "[('，', 1345), ('、', 876), ('的', 660), ('。', 617), ('和', 353), ('\\n', 340), ('发展', 212), (' ', 169), ('中国', 168), ('人民', 157), ('建设', 148), ('社会主义', 146), ('是', 139), ('坚持', 130), ('党', 103), ('国家', 90), ('在', 89), ('全面', 88), ('要', 85), ('实现', 83), ('制度', 83), ('推进', 81), ('社会', 80), ('政治', 80), ('特色', 79), ('新', 77), ('为', 72), ('加强', 71), ('体系', 68), ('文化', 66), ('我们', 64), ('时代', 63), ('“', 62), ('”', 62), ('必须', 61), ('经济', 59), ('伟大', 58), ('完善', 51), ('我国', 50), ('（', 50), ('）', 50), ('现代化', 47), ('推动', 47), ('以', 46), ('安全', 46), ('把', 44), ('创新', 44), ('更加', 44), ('民主', 44), ('中华民族', 43), ('工作', 42), ('了', 42), ('改革', 42), ('增强', 39), ('不断', 37), ('战略', 36), ('治理', 36), ('领导', 36), ('问题', 35), ('加快', 35), ('对', 34), ('世界', 34), ('中', 34), ('深化', 34), ('文明', 33), ('！', 33), ('复兴', 32), ('坚决', 32), ('到', 32), ('提高', 32), ('生态', 32), ('基本', 31), ('法治', 31), ('有', 31), ('思想', 30), ('上', 30), ('生活', 30), ('教育', 30), ('不', 29), ('等', 29), ('民族', 29), ('重大', 27), ('能力', 27), ('统一', 27), ('促进', 27), ('；', 27), ('历史', 27), ('更', 27), ('全党', 25), ('构建', 25), ('群众', 25), ('健全', 24), ('国际', 24), ('维护', 24), ('保障', 24), ('二', 23), ('形成', 23), ('人类', 23), ('解决', 23), ('建成', 22), ('团结', 22), ('监督', 22), ('理论', 22), ('斗争', 22), ('实践', 22), ('事业', 21), ('从', 21), ('机制', 21), ('协商', 21), ('保护', 21), ('组织', 21), ('统筹', 20), ('实施', 20), ('体制', 20), ('党内', 20), ('合作', 20), ('一个', 20), ('要求', 20), ('基础', 20), ('支持', 20), ('一切', 20), ('政策', 20), ('大', 19), ('依法治国', 19), ('强国', 19), ('创造', 19), ('共同', 19), ('强化', 19)]\n"
     ]
    }
   ],
   "source": [
    "# 2.统计词频\n",
    "from collections import Counter\n",
    "words_count = Counter(word_list)\n",
    "most_words = words_count.most_common(128)\n",
    "print(most_words)"
   ]
  },
  {
   "cell_type": "code",
   "execution_count": 17,
   "metadata": {},
   "outputs": [
    {
     "name": "stdout",
     "output_type": "stream",
     "text": [
      "[('发展', 212), ('中国', 168), ('人民', 157), ('建设', 148), ('社会主义', 146), ('坚持', 130), ('党', 103), ('国家', 90), ('全面', 88), ('实现', 83), ('制度', 83), ('推进', 81), ('社会', 80), ('政治', 80), ('特色', 79), ('新', 77), ('加强', 71), ('体系', 68), ('文化', 66), ('我们', 64), ('时代', 63), ('必须', 61), ('经济', 59), ('伟大', 58), ('完善', 51), ('我国', 50), ('现代化', 47), ('推动', 47), ('安全', 46), ('创新', 44), ('更加', 44), ('民主', 44), ('中华民族', 43), ('工作', 42), ('改革', 42), ('增强', 39), ('不断', 37), ('战略', 36), ('治理', 36), ('领导', 36), ('问题', 35), ('加快', 35), ('世界', 34), ('深化', 34), ('文明', 33), ('复兴', 32), ('坚决', 32), ('提高', 32), ('生态', 32), ('基本', 31), ('法治', 31), ('思想', 30), ('生活', 30), ('教育', 30), ('民族', 29), ('重大', 27), ('能力', 27), ('统一', 27), ('促进', 27), ('历史', 27), ('全党', 25), ('构建', 25), ('群众', 25), ('健全', 24), ('国际', 24), ('维护', 24), ('保障', 24), ('形成', 23), ('人类', 23), ('解决', 23), ('建成', 22), ('团结', 22), ('监督', 22), ('理论', 22), ('斗争', 22), ('实践', 22), ('事业', 21), ('机制', 21), ('协商', 21), ('保护', 21), ('组织', 21), ('统筹', 20), ('实施', 20), ('体制', 20), ('党内', 20), ('合作', 20), ('一个', 20), ('要求', 20), ('基础', 20), ('支持', 20), ('一切', 20), ('政策', 20), ('依法治国', 19), ('强国', 19), ('创造', 19), ('共同', 19), ('强化', 19)]\n"
     ]
    }
   ],
   "source": [
    "# 去除符号和助词、介词等\n",
    "# 这一步我们做了人工干预，手动选出一些忽略词\n",
    "most_words = [words for words in most_words if words[0] not in ' ，、。“”（）！；的和是在要为以把了对中到有上不等更二从大\\n']\n",
    "print(most_words)"
   ]
  },
  {
   "cell_type": "code",
   "execution_count": 18,
   "metadata": {},
   "outputs": [
    {
     "data": {
      "image/png": "[encoded data removed]",
      "text/plain": [
       "<matplotlib.figure.Figure at 0x1116e47b8>"
      ]
     },
     "metadata": {},
     "output_type": "display_data"
    },
    {
     "data": {
      "text/plain": [
       "<wordcloud.wordcloud.WordCloud at 0x1094f2978>"
      ]
     },
     "execution_count": 18,
     "metadata": {},
     "output_type": "execute_result"
    }
   ],
   "source": [
    "# 3.生成词云\n",
    "# 生成词频 dict\n",
    "dict_words = {}\n",
    "for words in most_words:\n",
    "    dict_words[words[0]] = words[1]\n",
    "\n",
    "from wordcloud import WordCloud, ImageColorGenerator\n",
    "\n",
    "# 读入图片\n",
    "from scipy.misc import imread\n",
    "bg_pic = imread('party.png')\n",
    "# 配置词云参数\n",
    "wc = WordCloud(\n",
    "    # 因为中文显示，这里必须提供中文字体文件\n",
    "    font_path = 'zhaozi.ttf',\n",
    "    # 设置背景色\n",
    "    background_color='red',\n",
    "    # 词云形状\n",
    "    mask=bg_pic,\n",
    "    # 最大号字体\n",
    "    max_font_size=100,\n",
    ")\n",
    "# 生成词云\n",
    "wc.generate_from_frequencies(dict_words)\n",
    "# 画图\n",
    "import matplotlib.pyplot as plt\n",
    "image_colors = ImageColorGenerator(bg_pic)\n",
    "#获取到的颜色模板，第二个图\n",
    "plt.imshow(wc.recolor(color_func=image_colors))\n",
    "plt.axis('off')\n",
    "plt.show()\n",
    "\n",
    "# 保存图片\n",
    "wc.to_file('word_freq.jpg')"
   ]
  },
  {
   "cell_type": "code",
   "execution_count": 28,
   "metadata": {},
   "outputs": [
    {
     "data": {
      "text/html": [
       "\n",
       "<div id=\"showhere\" style=\"width:800px; height:600px;\"></div> \n",
       "<script> \n",
       "require.config({ paths:{ echarts: '//cdn.bootcss.com/echarts/3.2.3/echarts.min', } });\n",
       "require(['echarts'],function(ec){\n",
       "var myChart = ec.init(document.getElementById('showhere'));\n",
       "\n",
       "var option = {\n",
       "    title: {\n",
       "        text: '十九大工作报告',\n",
       "    },\n",
       "    tooltip: {\n",
       "        trigger: 'axis',\n",
       "        axisPointer: {\n",
       "            type: 'shadow'\n",
       "        }\n",
       "    },\n",
       "    legend: {\n",
       "        data: ['报告词频']\n",
       "    },\n",
       "    grid: {\n",
       "        left: '3%',\n",
       "        right: '4%',\n",
       "        bottom: '3%',\n",
       "        containLabel: true\n",
       "    },\n",
       "    xAxis: {\n",
       "        type: 'value',\n",
       "        boundaryGap: [0, 0.01]\n",
       "    },\n",
       "    yAxis: {\n",
       "        type: 'category',\n",
       "        data: ['民主', '更加', '创新', '安全', '推动', '现代化', '我国', '完善', '伟大', '经济', '必须', '时代', '我们', '文化', '体系', '加强', '新', '特色', '政治', '社会', '推进', '制度', '实现', '全面', '国家', '党', '坚持', '社会主义', '建设', '人民', '中国', '发展']\n",
       "    },\n",
       "    series: [\n",
       "        {\n",
       "            name: '报告词频',\n",
       "            type: 'bar',\n",
       "            data: [44, 44, 44, 46, 47, 47, 50, 51, 58, 59, 61, 63, 64, 66, 68, 71, 77, 79, 80, 80, 81, 83, 83, 88, 90, 103, 130, 146, 148, 157, 168, 212]\n",
       "        }\n",
       "    ]\n",
       "};\n",
       "\n",
       "myChart.setOption(option);\n",
       "    });\n",
       "</script>\n"
      ],
      "text/plain": [
       "<IPython.core.display.HTML object>"
      ]
     },
     "execution_count": 28,
     "metadata": {},
     "output_type": "execute_result"
    }
   ],
   "source": [
    "# 生成 ECharts 配置数据，拼接出 HTML\n",
    "# 也可直接通过 ECharts 官网生成图表\n",
    "\n",
    "words_list = []\n",
    "count_list =[]\n",
    "for word in most_words[:32]:\n",
    "    words_list.append(word[0])\n",
    "    count_list.append(word[1])\n",
    "\n",
    "from IPython.display import HTML\n",
    "\n",
    "# 指定图表的配置项和数据\n",
    "option = \"\"\"\n",
    "var option = {\n",
    "    title: {\n",
    "        text: '十九大工作报告',\n",
    "    },\n",
    "    tooltip: {\n",
    "        trigger: 'axis',\n",
    "        axisPointer: {\n",
    "            type: 'shadow'\n",
    "        }\n",
    "    },\n",
    "    legend: {\n",
    "        data: ['报告词频']\n",
    "    },\n",
    "    grid: {\n",
    "        left: '3%',\n",
    "        right: '4%',\n",
    "        bottom: '3%',\n",
    "        containLabel: true\n",
    "    },\n",
    "    xAxis: {\n",
    "        type: 'value',\n",
    "        boundaryGap: [0, 0.01]\n",
    "    },\n",
    "    yAxis: {\n",
    "        type: 'category',\n",
    "        data: \"\"\" + str(words_list[::-1]) + \"\"\"\n",
    "    },\n",
    "    series: [\n",
    "        {\n",
    "            name: '报告词频',\n",
    "            type: 'bar',\n",
    "            data: \"\"\" + str(count_list[::-1]) + \"\"\"\n",
    "        }\n",
    "    ]\n",
    "};\n",
    "\"\"\"\n",
    "\n",
    "head = \"\"\"\n",
    "<div id=\"showhere\" style=\"width:800px; height:600px;\"></div> \n",
    "<script> \n",
    "require.config({ paths:{ echarts: '//cdn.bootcss.com/echarts/3.2.3/echarts.min', } });\n",
    "require(['echarts'],function(ec){\n",
    "var myChart = ec.init(document.getElementById('showhere'));\n",
    "\"\"\"\n",
    "\n",
    "tail = \"\"\"\n",
    "myChart.setOption(option);\n",
    "    });\n",
    "</script>\n",
    "\"\"\"\n",
    "\n",
    "HTML(head + option + tail)"
   ]
  }
 ],
 "metadata": {
  "kernelspec": {
   "display_name": "Python 3",
   "language": "python",
   "name": "python3"
  },
  "language_info": {
   "codemirror_mode": {
    "name": "ipython",
    "version": 3
   },
   "file_extension": ".py",
   "mimetype": "text/x-python",
   "name": "python",
   "nbconvert_exporter": "python",
   "pygments_lexer": "ipython3",
   "version": "3.6.2"
  }
 },
 "nbformat": 4,
 "nbformat_minor": 2
}
